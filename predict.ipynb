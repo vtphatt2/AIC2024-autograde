{
 "cells": [
  {
   "cell_type": "code",
   "execution_count": 2,
   "metadata": {},
   "outputs": [],
   "source": [
    "from ultralytics import YOLO\n",
    "import cv2 \n",
    "import numpy as np"
   ]
  },
  {
   "cell_type": "code",
   "execution_count": 5,
   "metadata": {},
   "outputs": [],
   "source": [
    "model_path = 'best_part2.pt'\n",
    "\n",
    "model = YOLO(model_path)"
   ]
  },
  {
   "cell_type": "code",
   "execution_count": 6,
   "metadata": {},
   "outputs": [
    {
     "name": "stdout",
     "output_type": "stream",
     "text": [
      "\n",
      "0: 1024x736 32 ticks, 32 not_ticks, 1625.0ms\n",
      "Speed: 82.5ms preprocess, 1625.0ms inference, 55.6ms postprocess per image at shape (1, 3, 1024, 736)\n"
     ]
    }
   ],
   "source": [
    "img_path = 'testset1/images/IMG_3960_iter_1.jpg'\n",
    "\n",
    "image = cv2.imread(img_path)\n",
    "\n",
    "kernel = np.array([[0, -1, 0],\n",
    "                   [-1, 5, -1],\n",
    "                   [0, -1, 0]])\n",
    "sharpened_image = cv2.filter2D(image, -1, kernel)\n",
    "\n",
    "results = model(sharpened_image)\n",
    "\n",
    "for result in results:\n",
    "    result.show(labels=False)  "
   ]
  }
 ],
 "metadata": {
  "kernelspec": {
   "display_name": "Python 3",
   "language": "python",
   "name": "python3"
  },
  "language_info": {
   "codemirror_mode": {
    "name": "ipython",
    "version": 3
   },
   "file_extension": ".py",
   "mimetype": "text/x-python",
   "name": "python",
   "nbconvert_exporter": "python",
   "pygments_lexer": "ipython3",
   "version": "3.12.1"
  }
 },
 "nbformat": 4,
 "nbformat_minor": 2
}
