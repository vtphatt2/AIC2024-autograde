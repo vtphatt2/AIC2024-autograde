{
 "cells": [
  {
   "cell_type": "code",
   "execution_count": 112,
   "metadata": {},
   "outputs": [],
   "source": [
    "from ultralytics import YOLO"
   ]
  },
  {
   "cell_type": "code",
   "execution_count": 113,
   "metadata": {},
   "outputs": [],
   "source": [
    "model_path = 'best_part1.pt'\n",
    "\n",
    "model = YOLO(model_path)"
   ]
  },
  {
   "cell_type": "code",
   "execution_count": 114,
   "metadata": {},
   "outputs": [
    {
     "name": "stdout",
     "output_type": "stream",
     "text": [
      "\n",
      "image 1/1 d:\\HCMUS_Document\\Nam 2\\Ki 1\\AIC2024-autograde\\image.png: 1024x736 40 ticks, 120 not_ticks, 1184.2ms\n",
      "Speed: 11.6ms preprocess, 1184.2ms inference, 3.0ms postprocess per image at shape (1, 3, 1024, 736)\n"
     ]
    }
   ],
   "source": [
    "img_path = 'image.png'\n",
    "\n",
    "results = model(img_path)\n",
    "\n",
    "for result in results:\n",
    "    result.show(labels=False)\n",
    "    result.save(labels=False)"
   ]
  },
  {
   "cell_type": "code",
   "execution_count": 115,
   "metadata": {},
   "outputs": [],
   "source": [
    "result = results[0]\n",
    "\n",
    "boxes = result.boxes.xyxy.tolist()\n",
    "\n",
    "labels = result.boxes.cls.tolist()\n",
    "\n",
    "confs = result.boxes.conf.tolist()\n",
    "#boxes\n",
    "#labels\n",
    "\n",
    "#result.boxes\n"
   ]
  },
  {
   "cell_type": "code",
   "execution_count": 116,
   "metadata": {},
   "outputs": [
    {
     "name": "stdout",
     "output_type": "stream",
     "text": [
      "40 120\n"
     ]
    }
   ],
   "source": [
    "datas = {}\n",
    "for box, label, conf in zip(boxes, labels, confs):\n",
    "    # Chuyển box thành danh sách và mở rộng lên 8 phần tử\n",
    "    extended_box = list(box)  # Chuyển sang danh sách nếu box là tuple\n",
    "    extended_box.extend([int(label), 0, 0, conf])  # Thêm nhãn và các giá trị mặc định\n",
    "    \n",
    "    # Đảm bảo luôn có 8 phần tử\n",
    "    datas[tuple(extended_box[:4])] = list(tuple(extended_box[4:]))\n",
    "num_o = 0\n",
    "num_1 = 0\n",
    "for key, value in datas.items():\n",
    "    if value[0] == 0:\n",
    "        num_o += 1\n",
    "    elif value[0] == 1:\n",
    "        num_1 += 1\n",
    "\n",
    "print(num_o, num_1)"
   ]
  },
  {
   "cell_type": "code",
   "execution_count": 117,
   "metadata": {},
   "outputs": [
    {
     "data": {
      "text/plain": [
       "([114.77325439453125, 1338.433837890625],\n",
       " [753.6658325195312, 1071.5665283203125])"
      ]
     },
     "execution_count": 117,
     "metadata": {},
     "output_type": "execute_result"
    }
   ],
   "source": [
    "import numpy as np\n",
    "import random\n",
    "\n",
    "\n",
    "\n",
    "\n",
    "val_x = [float(\"inf\"), float(\"-inf\")]  # [min_x, max_x]\n",
    "val_y = [float(\"inf\"), float(\"-inf\")]  # [min_y, max_y]\n",
    "\n",
    "\n",
    "for data_x in datas:\n",
    "    if data_x[0] < val_x[0]:\n",
    "        val_x[0] = data_x[0]\n",
    "    if data_x[2] > val_x[1]:\n",
    "        val_x[1] = data_x[2]\n",
    "\n",
    "    if data_x[1] < val_y[0]:\n",
    "        val_y[0] = data_x[1]\n",
    "    if data_x[3] > val_y[1]:\n",
    "        val_y[1] = data_x[3]\n",
    "\n",
    "val_x, val_y\n",
    "#datas\n",
    "\n",
    "\n"
   ]
  },
  {
   "cell_type": "code",
   "execution_count": 118,
   "metadata": {},
   "outputs": [
    {
     "data": {
      "text/plain": [
       "(160, 160)"
      ]
     },
     "execution_count": 118,
     "metadata": {},
     "output_type": "execute_result"
    }
   ],
   "source": [
    "val = ((val_x[1] - val_x[0])/36, (val_y[1] - val_y[0])/10)\n",
    "arr = np.zeros((11))\n",
    "arr2 = np.zeros((38))\n",
    "\n",
    "#print(val)\n",
    "num = 00\n",
    "for data in datas.keys():\n",
    "    for i in range(0,37):\n",
    "        if (data[0] + data[2])/2 >= val_x[0] + val[0]*i and (data[0] + data[2])/2 <= val_x[0] + val[0]*(i+1):\n",
    "            datas[data][1] = i + 1\n",
    "            arr2[i+1] += 1\n",
    "            #num += 1\n",
    "            break\n",
    "\n",
    "num1 = 0\n",
    "for data in datas.keys():\n",
    "    num1 += 1\n",
    "    for i in range(0,10):\n",
    "        \n",
    "        if (data[1] + data[3])/2.0 >= val_y[0] + val[1]*i and (data[1] + data[3])/2.0 <= val_y[0] + val[1]*(i+1):\n",
    "            datas[data][2] = i + 1\n",
    "            arr[i+1] += 1\n",
    "            num += 1\n",
    "            break\n",
    "\n",
    "num, num1"
   ]
  },
  {
   "cell_type": "code",
   "execution_count": 119,
   "metadata": {},
   "outputs": [
    {
     "name": "stdout",
     "output_type": "stream",
     "text": [
      "160\n"
     ]
    }
   ],
   "source": [
    "# Initialize the matrix with zeros\n",
    "import numpy as np\n",
    "matrix = np.zeros((11, 38), dtype=dict)\n",
    "num = 0\n",
    "\n",
    "for data in datas.keys():\n",
    "    row_index = datas[data][2]\n",
    "    col_index = datas[data][1]\n",
    "    if matrix[row_index][col_index] == 0:\n",
    "        matrix[row_index][col_index] = data\n",
    "        num += 1\n",
    "    else:\n",
    "        if datas[matrix[row_index][col_index]][0] == 0 and datas[data][0] == 0 and datas[matrix[row_index][col_index]][3] < datas[data][3]:\n",
    "            matrix[row_index][col_index] = data\n",
    "            num += 1\n",
    "        elif datas[matrix[row_index][col_index]][0] == 1 and datas[data][0] == 1 and datas[matrix[row_index][col_index]][3] > datas[data][3]:\n",
    "            matrix[row_index][col_index] = data\n",
    "            num += 1\n",
    "        elif datas[matrix[row_index][col_index]][0] == 1 and datas[data][0] == 0:\n",
    "            matrix[row_index][col_index] = data\n",
    "            num += 1\n",
    "            \n",
    "\n"
   ]
  },
  {
   "cell_type": "code",
   "execution_count": null,
   "metadata": {},
   "outputs": [
    {
     "name": "stdout",
     "output_type": "stream",
     "text": [
      "Result 1: 1\n",
      "Result 2: 1\n",
      "Result 3: 1\n",
      "Result 4: 1\n",
      "Result 5: 1\n",
      "Result 6: 1\n",
      "Result 7: 1\n",
      "Result 8: 1\n",
      "Result 9: 1\n",
      "Result 10: 1\n",
      "Result 11: 1\n",
      "Result 12: 1\n",
      "Result 13: 1\n",
      "Result 14: 1\n",
      "Result 15: 1\n",
      "Result 16: 1\n",
      "Result 17: 1\n",
      "Result 18: 1\n",
      "Result 19: 1\n",
      "Result 20: 1\n",
      "Result 21: 1\n",
      "Result 22: 1\n",
      "Result 23: 1\n",
      "Result 24: 1\n",
      "Result 25: 1\n",
      "Result 26: 1\n",
      "Result 27: 1\n",
      "Result 28: 1\n",
      "Result 29: 1\n",
      "Result 30: 1\n",
      "Result 31: 1\n",
      "Result 32: 1\n",
      "Result 33: 1\n",
      "Result 34: 1\n",
      "Result 35: 1\n",
      "Result 36: 1\n",
      "Result 37: 1\n",
      "Result 38: 1\n",
      "Result 39: 1\n",
      "Result 40: 1\n"
     ]
    },
    {
     "data": {
      "text/plain": [
       "40"
      ]
     },
     "execution_count": 122,
     "metadata": {},
     "output_type": "execute_result"
    }
   ],
   "source": [
    "results_end = [None] * 41 \n",
    "\n",
    "\n",
    "size = 1\n",
    "def update(results_end,index_x ,index_y, start):\n",
    "    if matrix[index_x][index_y] == 0:\n",
    "        return\n",
    "    if results_end[start] is None or (datas[matrix[index_x][index_y]][0] == 1 and datas[matrix[index_x][index_y]][3] < datas[results_end[start]][3]):\n",
    "        results_end[start] = matrix[index_x][index_y]\n",
    "            \n",
    "    if datas[matrix[index_x][index_y]][0] == 1 and (results_end[start] is None or datas[results_end[start]][0] == 0):\n",
    "        results_end[start] = matrix[index_x][index_y]\n",
    "    if datas[matrix[index_x][index_y]][0] == 0 and datas[results_end[start]][0] == 0 and datas[matrix[index_x][index_y]][3] > datas[results_end[start]][3]:\n",
    "        results_end[start] = matrix[index_x][index_y]\n",
    "\n",
    "def createResult(results_end, size):\n",
    "    for i in range(1, 11):\n",
    "        for j in range(1, 8):\n",
    "            update(results_end, i, j, size)\n",
    "\n",
    "        for j in range(11,18):\n",
    "            update(results_end, i, j, size+10)\n",
    "\n",
    "        for j in range(21, 28):\n",
    "            update(results_end, i, j, size+20)\n",
    "        \n",
    "        for j in range(31, 38):\n",
    "            update(results_end, i, j, size+30)\n",
    "        \n",
    "        size += 1\n",
    "\n",
    "    \n",
    "results_end\n",
    "num = 0\n",
    "for i in range(1, 41):\n",
    "    if results_end[i] is not None:\n",
    "        print(f\"Result {i}: {datas[results_end[i]][0]}\")\n",
    "        num += 1\n",
    "    else:\n",
    "        print(f\"Result {i}: None\")\n",
    "\n",
    "\n",
    "num\n",
    "\n"
   ]
  }
 ],
 "metadata": {
  "kernelspec": {
   "display_name": "Python 3",
   "language": "python",
   "name": "python3"
  },
  "language_info": {
   "codemirror_mode": {
    "name": "ipython",
    "version": 3
   },
   "file_extension": ".py",
   "mimetype": "text/x-python",
   "name": "python",
   "nbconvert_exporter": "python",
   "pygments_lexer": "ipython3",
   "version": "3.12.4"
  }
 },
 "nbformat": 4,
 "nbformat_minor": 2
}
