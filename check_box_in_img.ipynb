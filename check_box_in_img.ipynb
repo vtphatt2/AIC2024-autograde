{
 "cells": [
  {
   "cell_type": "code",
   "execution_count": 1,
   "metadata": {},
   "outputs": [],
   "source": [
    "import cv2"
   ]
  },
  {
   "cell_type": "code",
   "execution_count": 2,
   "metadata": {},
   "outputs": [],
   "source": [
    "def draw_yolo_box(image_path, yolo_coordinates, output_path):\n",
    "    img = cv2.imread(image_path)\n",
    "\n",
    "    height, width, _ = img.shape\n",
    "\n",
    "    x_center, y_center, box_width, box_height = yolo_coordinates.split(' ')\n",
    "\n",
    "    x_center = float(x_center)\n",
    "    y_center = float(y_center)\n",
    "    box_width = float(box_width)\n",
    "    box_height = float(box_height)\n",
    "\n",
    "    x_center_pixel = int(x_center * width)\n",
    "    y_center_pixel = int(y_center * height)\n",
    "    width_pixel = int(box_width * width)\n",
    "    height_pixel = int(box_height * height)\n",
    "\n",
    "    x1 = x_center_pixel - width_pixel // 2\n",
    "    y1 = y_center_pixel - height_pixel // 2\n",
    "    x2 = x_center_pixel + width_pixel // 2\n",
    "    y2 = y_center_pixel + height_pixel // 2\n",
    "\n",
    "    cv2.rectangle(img, (x1, y1), (x2, y2), (0, 255, 0), 2)\n",
    "\n",
    "    cv2.imwrite(output_path, img)"
   ]
  },
  {
   "cell_type": "code",
   "execution_count": 3,
   "metadata": {},
   "outputs": [],
   "source": [
    "image_path = 'Trainning_SET/Images/IMG_1581_iter_0.jpg'\n",
    "yolo_coordinates = \"0.729490 0.253094 0.015078 0.010473\"\n",
    "output_path = 'img_with_box.jpg'\n",
    "\n",
    "draw_yolo_box(image_path, yolo_coordinates, output_path)"
   ]
  }
 ],
 "metadata": {
  "kernelspec": {
   "display_name": "Python 3",
   "language": "python",
   "name": "python3"
  },
  "language_info": {
   "codemirror_mode": {
    "name": "ipython",
    "version": 3
   },
   "file_extension": ".py",
   "mimetype": "text/x-python",
   "name": "python",
   "nbconvert_exporter": "python",
   "pygments_lexer": "ipython3",
   "version": "3.9.6"
  }
 },
 "nbformat": 4,
 "nbformat_minor": 2
}
