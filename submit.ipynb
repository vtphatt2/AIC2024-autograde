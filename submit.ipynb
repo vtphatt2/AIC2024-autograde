{
 "cells": [
  {
   "cell_type": "code",
   "execution_count": null,
   "metadata": {},
   "outputs": [],
   "source": [
    "from glob import glob\n",
    "from ultralytics import YOLO\n",
    "import os"
   ]
  },
  {
   "cell_type": "code",
   "execution_count": 2,
   "metadata": {},
   "outputs": [],
   "source": [
    "model_for_sbd_mdt = YOLO('best_sbd_mdt.pt')"
   ]
  },
  {
   "cell_type": "code",
   "execution_count": 3,
   "metadata": {},
   "outputs": [],
   "source": [
    "test_image_files = glob(os.path.join('testset1', 'images', '*.jpg'))\n",
    "\n",
    "result_path = os.path.join('submission', 'result1.txt')"
   ]
  },
  {
   "cell_type": "code",
   "execution_count": null,
   "metadata": {},
   "outputs": [],
   "source": [
    "def process_and_write_to_file(results):\n",
    "    ticked_boxes = {\n",
    "        'SBD1': '',\n",
    "        'SBD2': '',\n",
    "        'SBD3': '',\n",
    "        'SBD4': '',\n",
    "        'SBD5': '',\n",
    "        'SBD6': '', \n",
    "        'MDT1': '',\n",
    "        'MDT2': '',\n",
    "        'MDT3': ''\n",
    "    }"
   ]
  },
  {
   "cell_type": "code",
   "execution_count": null,
   "metadata": {},
   "outputs": [],
   "source": [
    "for image_path in test_image_files:\n",
    "    results = model_for_sbd_mdt (image_path)\n",
    "    process_and_write_to_file(results)\n",
    "\n",
    "    "
   ]
  }
 ],
 "metadata": {
  "kernelspec": {
   "display_name": "Python 3",
   "language": "python",
   "name": "python3"
  },
  "language_info": {
   "codemirror_mode": {
    "name": "ipython",
    "version": 3
   },
   "file_extension": ".py",
   "mimetype": "text/x-python",
   "name": "python",
   "nbconvert_exporter": "python",
   "pygments_lexer": "ipython3",
   "version": "3.9.6"
  }
 },
 "nbformat": 4,
 "nbformat_minor": 2
}
